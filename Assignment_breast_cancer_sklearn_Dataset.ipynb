{
 "cells": [
  {
   "cell_type": "markdown",
   "id": "a665d347",
   "metadata": {},
   "source": [
    "# Breast Cancer Dataset\n",
    "Taregt: Improve Accuracy, Determine factors affect No. of hidden layers and neurons.\n",
    "- Hasan Samir Hasan\n"
   ]
  },
  {
   "cell_type": "markdown",
   "id": "72ecc70c",
   "metadata": {},
   "source": [
    "### Initial Model Summary:\n",
    "#### Model Configuration:\n",
    "* 2 hidden layers with ReLU.\n",
    "* 1 output layer with Sigmoid for binary classification.\n",
    "* Binary Crossentropy loss + Adam optimizer.\n",
    "* Validation split of 10%.\n",
    "#### Results: \n",
    "* accuracy: 0.9950 \n",
    "* loss: 0.0189 \n",
    "* val_accuracy: 0.9565 \n",
    "* val_loss: 0.1153\n",
    "* Test Accuracy: 0.9825\n",
    "- The Model results are good but there is a little increase in val_loss than training loss indicating some overfitting.\n",
    "\n",
    "### Improved Model Summary:\n",
    "#### Model Configuration:\n",
    "* 2 hidden layers with ReLU.\n",
    "* 2 Dropout layers (0.2)\n",
    "* 1 output layer with Sigmoid for binary classification.\n",
    "* Binary Crossentropy loss + Adam optimizer.\n",
    "* Validation split of 10%.\n",
    "#### Results: \n",
    "* accuracy: 0.9818\n",
    "* loss: 0.0774\n",
    "* val_accuracy: 0.9783\n",
    "* val_loss: 0.0796\n",
    "* Test Accuracy: 0.9912\n",
    "- After Using Dropout the model become more generalized where: (val_accuracy≈train_accuracy) and (val_loss≈train_loss), and the test accuracy is high.\n",
    "\n",
    "### I have changed dropout configuration then when i Go back again to the best-performing dropout configuration (e.g., two Dropout(0.2) layers). the results become very bad :(\n",
    "### Even when removing the Dropout, the model gives difeerent accuracy every run.\n",
    "\n",
    "# The Final Model Configuration:\n",
    "* 1 hidden layers with ReLU. Reduced from 2 layers\n",
    "* 1 Dropout(0.2) layer.\n",
    "* 1 output layer with Sigmoid for binary classification.\n",
    "* Binary Crossentropy loss + Adam optimizer.\n",
    "* Validation split of 15%. increased from 10%.\n",
    "* Set random seeds \n",
    "#### Results:   \n",
    "* accuracy: 0.9868\n",
    "* loss: 0.0502\n",
    "* val_accuracy: 0.9855\n",
    "* val_loss: 0.0620\n",
    "* Test Accuracy: 0.9912\n",
    "\n",

   ]
  },
  {
   "cell_type": "markdown",
   "id": "df8ff7d9",
   "metadata": {},
   "source": [
    "# Importing Liberaries"
   ]
  },
  {
   "cell_type": "code",
   "execution_count": 545,
   "id": "6f35ed6d",
   "metadata": {},
   "outputs": [],
   "source": [
    "import numpy as np\n",
    "import pandas as pd\n",
    "from tensorflow.keras.models import Sequential\n",
    "from tensorflow.keras.layers import Dense, Input, Activation\n",
    "from tensorflow.keras.datasets import boston_housing\n",
    "from tensorflow.keras import layers\n",
    "from sklearn.model_selection import train_test_split\n",
    "from sklearn.preprocessing import StandardScaler\n",
    "import tensorflow as tf\n",
    "import matplotlib.pyplot as plt\n",
    "import random\n",
    "import warnings\n",
    "warnings.filterwarnings('ignore')\n",
    "from sklearn.datasets import load_breast_cancer"
   ]
  },
  {
   "cell_type": "code",
   "execution_count": 546,
   "id": "8ce807d8",
   "metadata": {},
   "outputs": [],
   "source": [
    "SEED = 42\n",
    "random.seed(SEED)\n",
    "np.random.seed(SEED)\n",
    "tf.random.set_seed(SEED)"
   ]
  },
  {
   "cell_type": "markdown",
   "id": "af3d32fe",
   "metadata": {},
   "source": [
    "# Load the Breast Cancer Dataset"
   ]
  },
  {
   "cell_type": "code",
   "execution_count": 547,
   "id": "94d3a65e",
   "metadata": {},
   "outputs": [],
   "source": [
    "data = load_breast_cancer()\n",
    "x = pd.DataFrame(data.data, columns = data.feature_names)\n",
    "y = pd.Series(data.target)"
   ]
  },
  {
   "cell_type": "markdown",
   "id": "daf613a3",
   "metadata": {},
   "source": [
    "# Train-Test Split"
   ]
  },
  {
   "cell_type": "code",
   "execution_count": 548,
   "id": "92f31b0d",
   "metadata": {},
   "outputs": [],
   "source": [
    "x_train, x_test, y_train, y_test = train_test_split(x, y, test_size=0.2, random_state=42)\n"
   ]
  },
  {
   "cell_type": "markdown",
   "id": "0beae322",
   "metadata": {},
   "source": [
    "# Feature Scaling"
   ]
  },
  {
   "cell_type": "code",
   "execution_count": 549,
   "id": "221736be",
   "metadata": {},
   "outputs": [
    {
     "data": {
      "text/plain": [
       "30"
      ]
     },
     "execution_count": 549,
     "metadata": {},
     "output_type": "execute_result"
    }
   ],
   "source": [
    "scaler = StandardScaler()\n",
    "x_train = scaler.fit_transform(x_train)\n",
    "x_test = scaler.transform(x_test)\n",
    "\n",
    "#Check Input Shape\n",
    "x_train.shape[1]"
   ]
  },
  {
   "cell_type": "markdown",
   "id": "a32c41a0",
   "metadata": {},
   "source": [
    "# Build the Neural Network Model: Sequential"
   ]
  },
  {
   "cell_type": "code",
   "execution_count": 550,
   "id": "d8d73f4a",
   "metadata": {},
   "outputs": [],
   "source": [
    "from tensorflow.keras.layers import Dropout #Try to Improve the model with dropout"
   ]
  },
  {
   "cell_type": "code",
   "execution_count": 551,
   "id": "edd9133b",
   "metadata": {},
   "outputs": [],
   "source": [
    "model = Sequential([\n",
    "    Dense(16, activation='relu', input_shape=(x_train.shape[1],)),\n",
    "    Dropout(0.2),  # Adding dropout layer to reduce overfitting\n",
    "    #Dense(8, activation='relu'),\n",
    "    #Dropout(0.2),  # Adding another dropout layer\n",
    "    Dense(1, activation='sigmoid')\n",
    "])"
   ]
  },
  {
   "cell_type": "markdown",
   "id": "065fc0af",
   "metadata": {},
   "source": [
    "# Compile the Model"
   ]
  },
  {
   "cell_type": "code",
   "execution_count": 552,
   "id": "108f9d85",
   "metadata": {},
   "outputs": [],
   "source": [
    "model.compile(optimizer='adam', loss='binary_crossentropy', metrics = ['accuracy'])"
   ]
  },
  {
   "cell_type": "markdown",
   "id": "c8483856",
   "metadata": {},
   "source": [
    "# Train the Model"
   ]
  },
  {
   "cell_type": "code",
   "execution_count": 553,
   "id": "9f712a7f",
   "metadata": {},
   "outputs": [
    {
     "name": "stdout",
     "output_type": "stream",
     "text": [
      "Epoch 1/50\n",
      "\u001b[1m25/25\u001b[0m \u001b[32m━━━━━━━━━━━━━━━━━━━━\u001b[0m\u001b[37m\u001b[0m \u001b[1m3s\u001b[0m 20ms/step - accuracy: 0.6318 - loss: 0.6885 - val_accuracy: 0.7826 - val_loss: 0.5484\n",
      "Epoch 2/50\n",
      "\u001b[1m25/25\u001b[0m \u001b[32m━━━━━━━━━━━━━━━━━━━━\u001b[0m\u001b[37m\u001b[0m \u001b[1m0s\u001b[0m 10ms/step - accuracy: 0.8037 - loss: 0.4692 - val_accuracy: 0.8696 - val_loss: 0.4046\n",
      "Epoch 3/50\n",
      "\u001b[1m25/25\u001b[0m \u001b[32m━━━━━━━━━━━━━━━━━━━━\u001b[0m\u001b[37m\u001b[0m \u001b[1m0s\u001b[0m 9ms/step - accuracy: 0.8738 - loss: 0.3457 - val_accuracy: 0.9130 - val_loss: 0.3169\n",
      "Epoch 4/50\n",
      "\u001b[1m25/25\u001b[0m \u001b[32m━━━━━━━━━━━━━━━━━━━━\u001b[0m\u001b[37m\u001b[0m \u001b[1m0s\u001b[0m 9ms/step - accuracy: 0.9149 - loss: 0.2852 - val_accuracy: 0.9130 - val_loss: 0.2577\n",
      "Epoch 5/50\n",
      "\u001b[1m25/25\u001b[0m \u001b[32m━━━━━━━━━━━━━━━━━━━━\u001b[0m\u001b[37m\u001b[0m \u001b[1m0s\u001b[0m 8ms/step - accuracy: 0.9339 - loss: 0.2332 - val_accuracy: 0.9275 - val_loss: 0.2183\n",
      "Epoch 6/50\n",
      "\u001b[1m25/25\u001b[0m \u001b[32m━━━━━━━━━━━━━━━━━━━━\u001b[0m\u001b[37m\u001b[0m \u001b[1m0s\u001b[0m 8ms/step - accuracy: 0.9247 - loss: 0.2102 - val_accuracy: 0.9420 - val_loss: 0.1892\n",
      "Epoch 7/50\n",
      "\u001b[1m25/25\u001b[0m \u001b[32m━━━━━━━━━━━━━━━━━━━━\u001b[0m\u001b[37m\u001b[0m \u001b[1m0s\u001b[0m 9ms/step - accuracy: 0.9095 - loss: 0.2024 - val_accuracy: 0.9420 - val_loss: 0.1683\n",
      "Epoch 8/50\n",
      "\u001b[1m25/25\u001b[0m \u001b[32m━━━━━━━━━━━━━━━━━━━━\u001b[0m\u001b[37m\u001b[0m \u001b[1m0s\u001b[0m 6ms/step - accuracy: 0.9526 - loss: 0.1738 - val_accuracy: 0.9420 - val_loss: 0.1533\n",
      "Epoch 9/50\n",
      "\u001b[1m25/25\u001b[0m \u001b[32m━━━━━━━━━━━━━━━━━━━━\u001b[0m\u001b[37m\u001b[0m \u001b[1m0s\u001b[0m 7ms/step - accuracy: 0.9436 - loss: 0.1665 - val_accuracy: 0.9420 - val_loss: 0.1416\n",
      "Epoch 10/50\n",
      "\u001b[1m25/25\u001b[0m \u001b[32m━━━━━━━━━━━━━━━━━━━━\u001b[0m\u001b[37m\u001b[0m \u001b[1m0s\u001b[0m 7ms/step - accuracy: 0.9540 - loss: 0.1533 - val_accuracy: 0.9565 - val_loss: 0.1319\n",
      "Epoch 11/50\n",
      "\u001b[1m25/25\u001b[0m \u001b[32m━━━━━━━━━━━━━━━━━━━━\u001b[0m\u001b[37m\u001b[0m \u001b[1m0s\u001b[0m 7ms/step - accuracy: 0.9519 - loss: 0.1530 - val_accuracy: 0.9565 - val_loss: 0.1241\n",
      "Epoch 12/50\n",
      "\u001b[1m25/25\u001b[0m \u001b[32m━━━━━━━━━━━━━━━━━━━━\u001b[0m\u001b[37m\u001b[0m \u001b[1m0s\u001b[0m 9ms/step - accuracy: 0.9598 - loss: 0.1424 - val_accuracy: 0.9565 - val_loss: 0.1177\n",
      "Epoch 13/50\n",
      "\u001b[1m25/25\u001b[0m \u001b[32m━━━━━━━━━━━━━━━━━━━━\u001b[0m\u001b[37m\u001b[0m \u001b[1m0s\u001b[0m 6ms/step - accuracy: 0.9671 - loss: 0.1356 - val_accuracy: 0.9565 - val_loss: 0.1125\n",
      "Epoch 14/50\n",
      "\u001b[1m25/25\u001b[0m \u001b[32m━━━━━━━━━━━━━━━━━━━━\u001b[0m\u001b[37m\u001b[0m \u001b[1m0s\u001b[0m 8ms/step - accuracy: 0.9583 - loss: 0.1278 - val_accuracy: 0.9710 - val_loss: 0.1081\n",
      "Epoch 15/50\n",
      "\u001b[1m25/25\u001b[0m \u001b[32m━━━━━━━━━━━━━━━━━━━━\u001b[0m\u001b[37m\u001b[0m \u001b[1m0s\u001b[0m 7ms/step - accuracy: 0.9656 - loss: 0.1197 - val_accuracy: 0.9710 - val_loss: 0.1040\n",
      "Epoch 16/50\n",
      "\u001b[1m25/25\u001b[0m \u001b[32m━━━━━━━━━━━━━━━━━━━━\u001b[0m\u001b[37m\u001b[0m \u001b[1m0s\u001b[0m 8ms/step - accuracy: 0.9748 - loss: 0.1210 - val_accuracy: 0.9710 - val_loss: 0.1001\n",
      "Epoch 17/50\n",
      "\u001b[1m25/25\u001b[0m \u001b[32m━━━━━━━━━━━━━━━━━━━━\u001b[0m\u001b[37m\u001b[0m \u001b[1m0s\u001b[0m 7ms/step - accuracy: 0.9590 - loss: 0.1101 - val_accuracy: 0.9710 - val_loss: 0.0967\n",
      "Epoch 18/50\n",
      "\u001b[1m25/25\u001b[0m \u001b[32m━━━━━━━━━━━━━━━━━━━━\u001b[0m\u001b[37m\u001b[0m \u001b[1m0s\u001b[0m 9ms/step - accuracy: 0.9673 - loss: 0.1179 - val_accuracy: 0.9710 - val_loss: 0.0933\n",
      "Epoch 19/50\n",
      "\u001b[1m25/25\u001b[0m \u001b[32m━━━━━━━━━━━━━━━━━━━━\u001b[0m\u001b[37m\u001b[0m \u001b[1m0s\u001b[0m 7ms/step - accuracy: 0.9706 - loss: 0.0962 - val_accuracy: 0.9710 - val_loss: 0.0899\n",
      "Epoch 20/50\n",
      "\u001b[1m25/25\u001b[0m \u001b[32m━━━━━━━━━━━━━━━━━━━━\u001b[0m\u001b[37m\u001b[0m \u001b[1m0s\u001b[0m 8ms/step - accuracy: 0.9801 - loss: 0.1009 - val_accuracy: 0.9710 - val_loss: 0.0868\n",
      "Epoch 21/50\n",
      "\u001b[1m25/25\u001b[0m \u001b[32m━━━━━━━━━━━━━━━━━━━━\u001b[0m\u001b[37m\u001b[0m \u001b[1m0s\u001b[0m 9ms/step - accuracy: 0.9700 - loss: 0.0980 - val_accuracy: 0.9710 - val_loss: 0.0845\n",
      "Epoch 22/50\n",
      "\u001b[1m25/25\u001b[0m \u001b[32m━━━━━━━━━━━━━━━━━━━━\u001b[0m\u001b[37m\u001b[0m \u001b[1m0s\u001b[0m 8ms/step - accuracy: 0.9687 - loss: 0.0985 - val_accuracy: 0.9710 - val_loss: 0.0822\n",
      "Epoch 23/50\n",
      "\u001b[1m25/25\u001b[0m \u001b[32m━━━━━━━━━━━━━━━━━━━━\u001b[0m\u001b[37m\u001b[0m \u001b[1m0s\u001b[0m 9ms/step - accuracy: 0.9837 - loss: 0.0977 - val_accuracy: 0.9710 - val_loss: 0.0808\n",
      "Epoch 24/50\n",
      "\u001b[1m25/25\u001b[0m \u001b[32m━━━━━━━━━━━━━━━━━━━━\u001b[0m\u001b[37m\u001b[0m \u001b[1m0s\u001b[0m 8ms/step - accuracy: 0.9808 - loss: 0.0972 - val_accuracy: 0.9710 - val_loss: 0.0791\n",
      "Epoch 25/50\n",
      "\u001b[1m25/25\u001b[0m \u001b[32m━━━━━━━━━━━━━━━━━━━━\u001b[0m\u001b[37m\u001b[0m \u001b[1m0s\u001b[0m 7ms/step - accuracy: 0.9666 - loss: 0.1019 - val_accuracy: 0.9710 - val_loss: 0.0777\n",
      "Epoch 26/50\n",
      "\u001b[1m25/25\u001b[0m \u001b[32m━━━━━━━━━━━━━━━━━━━━\u001b[0m\u001b[37m\u001b[0m \u001b[1m0s\u001b[0m 8ms/step - accuracy: 0.9757 - loss: 0.0912 - val_accuracy: 0.9710 - val_loss: 0.0763\n",
      "Epoch 27/50\n",
      "\u001b[1m25/25\u001b[0m \u001b[32m━━━━━━━━━━━━━━━━━━━━\u001b[0m\u001b[37m\u001b[0m \u001b[1m0s\u001b[0m 6ms/step - accuracy: 0.9682 - loss: 0.1064 - val_accuracy: 0.9710 - val_loss: 0.0749\n",
      "Epoch 28/50\n",
      "\u001b[1m25/25\u001b[0m \u001b[32m━━━━━━━━━━━━━━━━━━━━\u001b[0m\u001b[37m\u001b[0m \u001b[1m0s\u001b[0m 7ms/step - accuracy: 0.9745 - loss: 0.0984 - val_accuracy: 0.9855 - val_loss: 0.0744\n",
      "Epoch 29/50\n",
      "\u001b[1m25/25\u001b[0m \u001b[32m━━━━━━━━━━━━━━━━━━━━\u001b[0m\u001b[37m\u001b[0m \u001b[1m0s\u001b[0m 7ms/step - accuracy: 0.9753 - loss: 0.0925 - val_accuracy: 0.9855 - val_loss: 0.0734\n",
      "Epoch 30/50\n",
      "\u001b[1m25/25\u001b[0m \u001b[32m━━━━━━━━━━━━━━━━━━━━\u001b[0m\u001b[37m\u001b[0m \u001b[1m0s\u001b[0m 7ms/step - accuracy: 0.9735 - loss: 0.0913 - val_accuracy: 0.9855 - val_loss: 0.0723\n",
      "Epoch 31/50\n",
      "\u001b[1m25/25\u001b[0m \u001b[32m━━━━━━━━━━━━━━━━━━━━\u001b[0m\u001b[37m\u001b[0m \u001b[1m0s\u001b[0m 8ms/step - accuracy: 0.9753 - loss: 0.0818 - val_accuracy: 0.9855 - val_loss: 0.0719\n",
      "Epoch 32/50\n",
      "\u001b[1m25/25\u001b[0m \u001b[32m━━━━━━━━━━━━━━━━━━━━\u001b[0m\u001b[37m\u001b[0m \u001b[1m0s\u001b[0m 6ms/step - accuracy: 0.9704 - loss: 0.0894 - val_accuracy: 0.9855 - val_loss: 0.0710\n",
      "Epoch 33/50\n",
      "\u001b[1m25/25\u001b[0m \u001b[32m━━━━━━━━━━━━━━━━━━━━\u001b[0m\u001b[37m\u001b[0m \u001b[1m0s\u001b[0m 9ms/step - accuracy: 0.9633 - loss: 0.0731 - val_accuracy: 0.9855 - val_loss: 0.0697\n",
      "Epoch 34/50\n",
      "\u001b[1m25/25\u001b[0m \u001b[32m━━━━━━━━━━━━━━━━━━━━\u001b[0m\u001b[37m\u001b[0m \u001b[1m0s\u001b[0m 10ms/step - accuracy: 0.9753 - loss: 0.0726 - val_accuracy: 0.9855 - val_loss: 0.0691\n",
      "Epoch 35/50\n",
      "\u001b[1m25/25\u001b[0m \u001b[32m━━━━━━━━━━━━━━━━━━━━\u001b[0m\u001b[37m\u001b[0m \u001b[1m0s\u001b[0m 10ms/step - accuracy: 0.9739 - loss: 0.0705 - val_accuracy: 0.9855 - val_loss: 0.0681\n",
      "Epoch 36/50\n",
      "\u001b[1m25/25\u001b[0m \u001b[32m━━━━━━━━━━━━━━━━━━━━\u001b[0m\u001b[37m\u001b[0m \u001b[1m0s\u001b[0m 10ms/step - accuracy: 0.9728 - loss: 0.0869 - val_accuracy: 0.9855 - val_loss: 0.0678\n",
      "Epoch 37/50\n",
      "\u001b[1m25/25\u001b[0m \u001b[32m━━━━━━━━━━━━━━━━━━━━\u001b[0m\u001b[37m\u001b[0m \u001b[1m0s\u001b[0m 8ms/step - accuracy: 0.9696 - loss: 0.0802 - val_accuracy: 0.9855 - val_loss: 0.0671\n",
      "Epoch 38/50\n",
      "\u001b[1m25/25\u001b[0m \u001b[32m━━━━━━━━━━━━━━━━━━━━\u001b[0m\u001b[37m\u001b[0m \u001b[1m0s\u001b[0m 8ms/step - accuracy: 0.9808 - loss: 0.0810 - val_accuracy: 0.9855 - val_loss: 0.0666\n",
      "Epoch 39/50\n",
      "\u001b[1m25/25\u001b[0m \u001b[32m━━━━━━━━━━━━━━━━━━━━\u001b[0m\u001b[37m\u001b[0m \u001b[1m0s\u001b[0m 8ms/step - accuracy: 0.9786 - loss: 0.0738 - val_accuracy: 0.9855 - val_loss: 0.0659\n",
      "Epoch 40/50\n",
      "\u001b[1m25/25\u001b[0m \u001b[32m━━━━━━━━━━━━━━━━━━━━\u001b[0m\u001b[37m\u001b[0m \u001b[1m0s\u001b[0m 7ms/step - accuracy: 0.9868 - loss: 0.0723 - val_accuracy: 0.9855 - val_loss: 0.0653\n",
      "Epoch 41/50\n",
      "\u001b[1m25/25\u001b[0m \u001b[32m━━━━━━━━━━━━━━━━━━━━\u001b[0m\u001b[37m\u001b[0m \u001b[1m0s\u001b[0m 14ms/step - accuracy: 0.9827 - loss: 0.0710 - val_accuracy: 0.9855 - val_loss: 0.0653\n",
      "Epoch 42/50\n",
      "\u001b[1m25/25\u001b[0m \u001b[32m━━━━━━━━━━━━━━━━━━━━\u001b[0m\u001b[37m\u001b[0m \u001b[1m0s\u001b[0m 8ms/step - accuracy: 0.9795 - loss: 0.0794 - val_accuracy: 0.9855 - val_loss: 0.0650\n",
      "Epoch 43/50\n",
      "\u001b[1m25/25\u001b[0m \u001b[32m━━━━━━━━━━━━━━━━━━━━\u001b[0m\u001b[37m\u001b[0m \u001b[1m0s\u001b[0m 11ms/step - accuracy: 0.9868 - loss: 0.0699 - val_accuracy: 0.9855 - val_loss: 0.0652\n",
      "Epoch 44/50\n",
      "\u001b[1m25/25\u001b[0m \u001b[32m━━━━━━━━━━━━━━━━━━━━\u001b[0m\u001b[37m\u001b[0m \u001b[1m0s\u001b[0m 8ms/step - accuracy: 0.9831 - loss: 0.0635 - val_accuracy: 0.9855 - val_loss: 0.0642\n",
      "Epoch 45/50\n",
      "\u001b[1m25/25\u001b[0m \u001b[32m━━━━━━━━━━━━━━━━━━━━\u001b[0m\u001b[37m\u001b[0m \u001b[1m0s\u001b[0m 10ms/step - accuracy: 0.9717 - loss: 0.0726 - val_accuracy: 0.9855 - val_loss: 0.0643\n",
      "Epoch 46/50\n",
      "\u001b[1m25/25\u001b[0m \u001b[32m━━━━━━━━━━━━━━━━━━━━\u001b[0m\u001b[37m\u001b[0m \u001b[1m0s\u001b[0m 7ms/step - accuracy: 0.9866 - loss: 0.0602 - val_accuracy: 0.9855 - val_loss: 0.0644\n",
      "Epoch 47/50\n",
      "\u001b[1m25/25\u001b[0m \u001b[32m━━━━━━━━━━━━━━━━━━━━\u001b[0m\u001b[37m\u001b[0m \u001b[1m0s\u001b[0m 12ms/step - accuracy: 0.9830 - loss: 0.0677 - val_accuracy: 0.9855 - val_loss: 0.0643\n",
      "Epoch 48/50\n",
      "\u001b[1m25/25\u001b[0m \u001b[32m━━━━━━━━━━━━━━━━━━━━\u001b[0m\u001b[37m\u001b[0m \u001b[1m0s\u001b[0m 7ms/step - accuracy: 0.9888 - loss: 0.0592 - val_accuracy: 0.9855 - val_loss: 0.0641\n",
      "Epoch 49/50\n",
      "\u001b[1m25/25\u001b[0m \u001b[32m━━━━━━━━━━━━━━━━━━━━\u001b[0m\u001b[37m\u001b[0m \u001b[1m0s\u001b[0m 7ms/step - accuracy: 0.9863 - loss: 0.0589 - val_accuracy: 0.9855 - val_loss: 0.0627\n",
      "Epoch 50/50\n",
      "\u001b[1m25/25\u001b[0m \u001b[32m━━━━━━━━━━━━━━━━━━━━\u001b[0m\u001b[37m\u001b[0m \u001b[1m0s\u001b[0m 11ms/step - accuracy: 0.9868 - loss: 0.0502 - val_accuracy: 0.9855 - val_loss: 0.0620\n"
     ]
    }
   ],
   "source": [
    "history = model.fit(x_train, y_train, epochs=50, batch_size=16, validation_split=0.15, verbose=1)"
   ]
  },
  {
   "cell_type": "markdown",
   "id": "c2f71637",
   "metadata": {},
   "source": [
    "# Evaluate the Model"
   ]
  },
  {
   "cell_type": "code",
   "execution_count": 554,
   "id": "de3f1484",
   "metadata": {},
   "outputs": [
    {
     "name": "stdout",
     "output_type": "stream",
     "text": [
      "\u001b[1m4/4\u001b[0m \u001b[32m━━━━━━━━━━━━━━━━━━━━\u001b[0m\u001b[37m\u001b[0m \u001b[1m0s\u001b[0m 16ms/step - accuracy: 0.9850 - loss: 0.0752\n",
      "Test Accuracy: 99.12%\n"
     ]
    }
   ],
   "source": [
    "loss, accuracy = model.evaluate(x_test, y_test)\n",
    "print(f'Test Accuracy: {accuracy*100:.2f}%')"
   ]
  },
  {
   "cell_type": "markdown",
   "id": "74d9a30c",
   "metadata": {},
   "source": [
    "# Plot Accuracy Curve"
   ]
  },
  {
   "cell_type": "code",
   "execution_count": 555,
   "id": "06649015",
   "metadata": {},
   "outputs": [
    {
     "data": {
      "image/png": "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",
      "text/plain": [
       "<Figure size 640x480 with 1 Axes>"
      ]
     },
     "metadata": {},
     "output_type": "display_data"
    }
   ],
   "source": [
    "plt.plot(history.history['loss'], label='Training Loss')\n",
    "plt.plot(history.history['val_loss'], label='Validation Loss')\n",
    "plt.title(\"Loss Curve\")\n",
    "plt.xlabel('Epoch')\n",
    "plt.ylabel('Loss')\n",
    "plt.legend()\n",
    "plt.show()"
   ]
  },
  {
   "cell_type": "markdown",
   "id": "90a55be3",
   "metadata": {},
   "source": [
    "# Factors Affecting the Number of Hidden Layers and Neurons\n",
    "## 1. Problem Complexity\n",
    "Simple problems (linear, low-dimensional) → 1 hidden layer may be enough.\n",
    "\n",
    "Complex problems (non-linear, image, speech, NLP) → deeper networks are often needed.\n",
    "\n",
    "## 2. Size and Dimensionality of Input Data\n",
    "More input features often require more neurons in the first hidden layer to capture interactions.\n",
    "\n",
    "High-dimensional data may benefit from deeper architectures for hierarchical feature extraction.\n",
    "\n",
    "## 3. Training Dataset Size\n",
    "Small datasets → simpler models (fewer layers/neurons) to avoid overfitting.\n",
    "\n",
    "Large datasets → can support more complex models and deeper architectures.\n",
    "\n",
    "## 4. Output Type\n",
    "Binary classification → fewer layers often suffice.\n",
    "\n",
    "Multi-class or regression → may need more capacity depending on complexity.\n",
    "\n",
    "## 5. Noise in Data\n",
    "High noise → too many neurons/layers will overfit → keep model simpler.\n",
    "\n",
    "Clean data → deeper models may generalize well.\n",
    "\n",
    "## 6. Overfitting vs Underfitting\n",
    "Too few layers/neurons → underfitting (high bias)\n",
    "\n",
    "Too many layers/neurons → overfitting (high variance)\n",
    "\n",
    "## 7. Activation Functions\n",
    "Using non-linear activations (ReLU, tanh, etc.) enables fewer neurons/layers to model complex functions.\n",
    "\n",
    "## 8. Computational Resources\n",
    "More neurons and layers = more memory, time, and GPU power required.\n",
    "\n",
    "In real-time or embedded systems, simpler networks may be better.\n",
    "\n",
    "## 9. Architecture Type\n",
    "CNNs (for images) need fewer dense layers but more convolutional depth.\n",
    "\n",
    "RNNs/LSTMs (for sequences) need multiple time-aware layers.\n",
    "\n",
    "Transformers (NLP, vision) require many layers but use attention.\n",
    "\n"
   ]
  },
  {
   "cell_type": "markdown",
   "id": "e7904e84",
   "metadata": {},
   "source": [
    "# General Guidelines (Not Rules)\n",
    "\n",
    "* Simple structured data >>>>>>>>>>>> 1–2 hidden layers, 8–64 neurons\n",
    "* Moderate complexity (tabular, medium features) >>>>>>>>>>>> 2–3 hidden layers, 32–128 neurons\n",
    "* Complex (image, text) >>>>>>>>>>>> 5–50+ layers (CNNs, LSTMs, Transformers)\n",
    "* High-dimensional small dataset >>>>>>>>>>>> Dimensionality reduction + shallow NN\n",
    "\n",
    "\n",
    "# Tips to Tune Layers/Neurons\n",
    "\n",
    "* Start small (e.g., 16 → 8 → 1) and increase only if underfitting.\n",
    "\n",
    "* Use cross-validation to test architectures.\n",
    "\n",
    "* Use EarlyStopping and Dropout to avoid overfitting when using more neurons.\n",
    "\n",
    "* Use tools like Keras Tuner, Optuna, or GridSearchCV for automated tuning."
   ]
  }
 ],
 "metadata": {
  "kernelspec": {
   "display_name": "base",
   "language": "python",
   "name": "python3"
  },
  "language_info": {
   "codemirror_mode": {
    "name": "ipython",
    "version": 3
   },
   "file_extension": ".py",
   "mimetype": "text/x-python",
   "name": "python",
   "nbconvert_exporter": "python",
   "pygments_lexer": "ipython3",
   "version": "3.12.7"
  }
 },
 "nbformat": 4,
 "nbformat_minor": 5
}
